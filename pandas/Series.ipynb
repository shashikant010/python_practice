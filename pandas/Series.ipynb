{
 "cells": [
  {
   "cell_type": "code",
   "execution_count": null,
   "metadata": {},
   "outputs": [],
   "source": [
    "import pandas as pd"
   ]
  },
  {
   "cell_type": "code",
   "execution_count": null,
   "metadata": {},
   "outputs": [],
   "source": [
    "pythonList=[1,2,3,4,5,6,7]\n",
    "PandaSeries=pd.Series(pythonList)\n",
    "PandaSeries"
   ]
  },
  {
   "cell_type": "code",
   "execution_count": null,
   "metadata": {},
   "outputs": [],
   "source": [
    "print(type(PandaSeries))"
   ]
  },
  {
   "cell_type": "code",
   "execution_count": null,
   "metadata": {},
   "outputs": [],
   "source": [
    "print(PandaSeries[2])"
   ]
  },
  {
   "cell_type": "code",
   "execution_count": null,
   "metadata": {},
   "outputs": [],
   "source": [
    "pandasSeriesWithIndex= pd.Series(pythonList,index=[\"one\",\"two\",\"three\",\"fourth\",\"five\",\"sixth\",\"saatva\"])\n",
    "pandasSeriesWithIndex"
   ]
  },
  {
   "cell_type": "code",
   "execution_count": null,
   "metadata": {},
   "outputs": [],
   "source": [
    "pandasSeriesWithIndex= pd.Series(pythonList,index=[\"one\",\"two\",\"three\",\"fourth\",\"five\",\"sixth\",\"saatva\"],dtype=\"float\",name=\"pythonPandas\")\n",
    "pandasSeriesWithIndex"
   ]
  },
  {
   "cell_type": "code",
   "execution_count": null,
   "metadata": {},
   "outputs": [],
   "source": [
    "dic = {\"name\":['pyhton','c','c++','java'],\"popularity\":[12,32,12,54]}\n",
    "pandasDictionarySeries = pd.Series(dic)\n",
    "pandasDictionarySeries"
   ]
  },
  {
   "cell_type": "code",
   "execution_count": null,
   "metadata": {},
   "outputs": [],
   "source": [
    "PandaSeries2=pd.Series(12,index=[1,2,3,4,5,6,7])\n",
    "PandaSeries2"
   ]
  },
  {
   "cell_type": "code",
   "execution_count": null,
   "metadata": {},
   "outputs": [],
   "source": [
    "PandaSeries3=pd.Series(42,index=[1,2,3,4])\n",
    "PandaSeries3"
   ]
  },
  {
   "cell_type": "code",
   "execution_count": null,
   "metadata": {},
   "outputs": [],
   "source": [
    "PandaSeries4=PandaSeries2+PandaSeries3\n",
    "PandaSeries4"
   ]
  },
  {
   "cell_type": "code",
   "execution_count": null,
   "metadata": {},
   "outputs": [],
   "source": []
  }
 ],
 "metadata": {
  "kernelspec": {
   "display_name": "Python 3",
   "language": "python",
   "name": "python3"
  },
  "language_info": {
   "codemirror_mode": {
    "name": "ipython",
    "version": 3
   },
   "file_extension": ".py",
   "mimetype": "text/x-python",
   "name": "python",
   "nbconvert_exporter": "python",
   "pygments_lexer": "ipython3",
   "version": "3.12.4"
  }
 },
 "nbformat": 4,
 "nbformat_minor": 2
}
